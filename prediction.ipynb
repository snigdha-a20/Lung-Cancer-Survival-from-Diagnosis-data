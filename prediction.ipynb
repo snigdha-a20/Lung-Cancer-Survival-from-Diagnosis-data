{
 "cells": [
  {
   "cell_type": "code",
   "execution_count": 1,
   "id": "4ffa731c-cd26-4536-a3c6-700a19a512c2",
   "metadata": {},
   "outputs": [],
   "source": [
    "# Import required libraries\n",
    "import joblib\n",
    "import numpy as np\n",
    "import pandas as pd"
   ]
  },
  {
   "cell_type": "code",
   "execution_count": 2,
   "id": "05980708-1eaf-4edc-bfb4-766cbaeee453",
   "metadata": {},
   "outputs": [
    {
     "name": "stdout",
     "output_type": "stream",
     "text": [
      "Features used for prediction:\n",
      "['age', 'gender', 'family_history', 'bmi', 'cholesterol_level', 'hypertension', 'asthma', 'cirrhosis', 'other_cancer', 'treatment_duration', 'country_Belgium', 'country_Bulgaria', 'country_Croatia', 'country_Cyprus', 'country_Czech Republic', 'country_Denmark', 'country_Estonia', 'country_Finland', 'country_France', 'country_Germany', 'country_Greece', 'country_Hungary', 'country_Ireland', 'country_Italy', 'country_Latvia', 'country_Lithuania', 'country_Luxembourg', 'country_Malta', 'country_Netherlands', 'country_Poland', 'country_Portugal', 'country_Romania', 'country_Slovakia', 'country_Slovenia', 'country_Spain', 'country_Sweden', 'smoking_status_Former Smoker', 'smoking_status_Never Smoked', 'smoking_status_Passive Smoker', 'treatment_type_Combined', 'treatment_type_Radiation', 'treatment_type_Surgery', 'cancer_stage_Stage II', 'cancer_stage_Stage III', 'cancer_stage_Stage IV']\n",
      "Total features expected: 45\n"
     ]
    }
   ],
   "source": [
    "# Load model and column names\n",
    "model = joblib.load(\"xgboost_lung_survival_model.pkl\")\n",
    "feature_names = joblib.load(\"xgb_feature_columns.pkl\")\n",
    "\n",
    "# Inspect feature names\n",
    "print(\"Features used for prediction:\")\n",
    "print(feature_names)\n",
    "print(\"Total features expected:\", len(feature_names))"
   ]
  },
  {
   "cell_type": "code",
   "execution_count": 5,
   "id": "02aab590-6279-4ca5-baff-384ca5b8e3e7",
   "metadata": {},
   "outputs": [],
   "source": [
    "sample_values = [\n",
    "    75,\n",
    "    1,\n",
    "    1,\n",
    "    21,\n",
    "    180,\n",
    "    0,\n",
    "    0,\n",
    "    0,\n",
    "    0,\n",
    "    200,\n",
    "\n",
    "    0,0,0,0,0,0,0,0,0,0,0,0,\n",
    "    1,\n",
    "    0,0,0,0,0,0,0,0,0,0,0,0,0,\n",
    "\n",
    "    1,0,0,\n",
    "\n",
    "    0,1,0,\n",
    "\n",
    "    1,0,0\n",
    "]"
   ]
  },
  {
   "cell_type": "code",
   "execution_count": 6,
   "id": "c1bb29c1-e8a4-4bf7-b653-fbb0c0856dde",
   "metadata": {},
   "outputs": [
    {
     "name": "stdout",
     "output_type": "stream",
     "text": [
      "✅ Prediction: Did Not Survive ❌\n"
     ]
    }
   ],
   "source": [
    "\n",
    "# Load model\n",
    "model = joblib.load(\"xgboost_lung_survival_model.pkl\")\n",
    "\n",
    "# Create input array\n",
    "sample_input = np.array(sample_values).reshape(1, -1)\n",
    "\n",
    "# Predict\n",
    "prediction = model.predict(sample_input)[0]\n",
    "print(\"✅ Prediction:\", \"Survived ✅\" if prediction == 1 else \"Did Not Survive ❌\")\n"
   ]
  },
  {
   "cell_type": "code",
   "execution_count": null,
   "id": "aa405504-efe0-4579-8596-735b0361d63f",
   "metadata": {},
   "outputs": [],
   "source": []
  }
 ],
 "metadata": {
  "kernelspec": {
   "display_name": "Python 3 (ipykernel)",
   "language": "python",
   "name": "python3"
  },
  "language_info": {
   "codemirror_mode": {
    "name": "ipython",
    "version": 3
   },
   "file_extension": ".py",
   "mimetype": "text/x-python",
   "name": "python",
   "nbconvert_exporter": "python",
   "pygments_lexer": "ipython3",
   "version": "3.11.0"
  }
 },
 "nbformat": 4,
 "nbformat_minor": 5
}
